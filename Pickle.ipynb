{
 "cells": [
  {
   "cell_type": "markdown",
   "id": "84513afa",
   "metadata": {},
   "source": [
    "Pickle (8 marks)"
   ]
  },
  {
   "cell_type": "code",
   "execution_count": 4,
   "id": "9eb0419b",
   "metadata": {},
   "outputs": [],
   "source": [
    "# Python3 program to illustrate store\n",
    "# efficiently using pickle module\n",
    "# Module translates an in-memory Python object\n",
    "# into a serialized byte stream—a string of"
   ]
  },
  {
   "cell_type": "code",
   "execution_count": 3,
   "id": "68c8453e",
   "metadata": {},
   "outputs": [
    {
     "name": "stdout",
     "output_type": "stream",
     "text": [
      "Note: you may need to restart the kernel to use updated packages.\n"
     ]
    },
    {
     "name": "stderr",
     "output_type": "stream",
     "text": [
      "ERROR: Could not find a version that satisfies the requirement pickle (from versions: none)\n",
      "ERROR: No matching distribution found for pickle\n",
      "\n",
      "[notice] A new release of pip is available: 23.1.2 -> 24.3.1\n",
      "[notice] To update, run: python.exe -m pip install --upgrade pip\n"
     ]
    }
   ],
   "source": [
    "pip install pickle"
   ]
  },
  {
   "cell_type": "code",
   "execution_count": 2,
   "id": "ee70401e",
   "metadata": {},
   "outputs": [
    {
     "name": "stdout",
     "output_type": "stream",
     "text": [
      "{'name': 'Alice', 'age': 25, 'is_student': True}\n"
     ]
    }
   ],
   "source": [
    "import pickle\n",
    "\n",
    "# Example data to serialize\n",
    "data = {'name': 'Alice', 'age': 25, 'is_student': True}\n",
    "\n",
    "# Serialize (pickle) the data to a file\n",
    "with open('data.pkl', 'wb') as file:  # 'wb' mode is for writing binary\n",
    "    pickle.dump(data, file)\n",
    "\n",
    "# Deserialize (unpickle) the data from the file\n",
    "with open('data.pkl', 'rb') as file:  # 'rb' mode is for reading binary\n",
    "    loaded_data = pickle.load(file)\n",
    "\n",
    "print(loaded_data)\n",
    "# Output: {'name': 'Alice', 'age': 25, 'is_student': True}\n"
   ]
  },
  {
   "cell_type": "code",
   "execution_count": null,
   "id": "0c53187c",
   "metadata": {},
   "outputs": [],
   "source": []
  },
  {
   "cell_type": "code",
   "execution_count": null,
   "id": "fc0f70e9",
   "metadata": {},
   "outputs": [],
   "source": []
  }
 ],
 "metadata": {
  "kernelspec": {
   "display_name": "Python 3",
   "language": "python",
   "name": "python3"
  },
  "language_info": {
   "codemirror_mode": {
    "name": "ipython",
    "version": 3
   },
   "file_extension": ".py",
   "mimetype": "text/x-python",
   "name": "python",
   "nbconvert_exporter": "python",
   "pygments_lexer": "ipython3",
   "version": "3.11.4"
  }
 },
 "nbformat": 4,
 "nbformat_minor": 5
}
