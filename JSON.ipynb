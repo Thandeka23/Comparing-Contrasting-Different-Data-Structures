{
 "cells": [
  {
   "cell_type": "code",
   "execution_count": 3,
   "id": "06286325-2166-4ced-be81-13930f7215cd",
   "metadata": {},
   "outputs": [
    {
     "data": {
      "text/plain": [
       "{'name': 'Thandi Mdluli',\n",
       " 'age': 30,\n",
       " 'is_student': False,\n",
       " 'courses': ['Math', 'Science'],\n",
       " 'address': {'street': '123 Main St', 'city': 'Johannesburg'}}"
      ]
     },
     "execution_count": 3,
     "metadata": {},
     "output_type": "execute_result"
    }
   ],
   "source": [
    "{\n",
    "    \"name\": \"Thandi Mdluli\",\n",
    "    \"age\": 30,\n",
    "    \"is_student\": False,\n",
    "    \"courses\": [\"Math\", \"Science\"],\n",
    "    \"address\": {\n",
    "        \"street\": \"123 Main St\",\n",
    "        \"city\": \"Johannesburg\"\n",
    "    }\n",
    "}"
   ]
  },
  {
   "cell_type": "code",
   "execution_count": null,
   "id": "0d36b9ae-716d-4712-abb4-b7557de6b640",
   "metadata": {},
   "outputs": [],
   "source": []
  }
 ],
 "metadata": {
  "kernelspec": {
   "display_name": "Python 3 (ipykernel)",
   "language": "python",
   "name": "python3"
  },
  "language_info": {
   "codemirror_mode": {
    "name": "ipython",
    "version": 3
   },
   "file_extension": ".py",
   "mimetype": "text/x-python",
   "name": "python",
   "nbconvert_exporter": "python",
   "pygments_lexer": "ipython3",
   "version": "3.12.4"
  }
 },
 "nbformat": 4,
 "nbformat_minor": 5
}
