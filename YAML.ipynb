{
 "cells": [
  {
   "cell_type": "code",
   "execution_count": 1,
   "id": "c240b4d5",
   "metadata": {},
   "outputs": [
    {
     "name": "stdout",
     "output_type": "stream",
     "text": [
      "Loaded Data:\n",
      "{'person': {'name': 'Phuluso', 'age': 25, 'address': {'street': '55 Main St', 'city': 'Braamfontein', 'country': 'South Africa'}, 'hobbies': ['reading', 'hiking', 'coding']}}\n",
      "\n",
      "Modified YAML Data:\n",
      "person:\n",
      "  address:\n",
      "    city: Braamfontein\n",
      "    country: South Africa\n",
      "    street: 55 Main St\n",
      "  age: 31\n",
      "  hobbies:\n",
      "  - reading\n",
      "  - hiking\n",
      "  - coding\n",
      "  - traveling\n",
      "  name: Phuluso\n",
      "\n"
     ]
    }
   ],
   "source": [
    "import yaml\n",
    "\n",
    "# Example YAML data as a string\n",
    "yaml_data = \"\"\"\n",
    "person:\n",
    "  name: Phuluso\n",
    "  age: 25\n",
    "  address:\n",
    "    street: 55 Main St\n",
    "    city: Braamfontein\n",
    "    country: South Africa\n",
    "  hobbies:\n",
    "    - reading\n",
    "    - hiking\n",
    "    - coding\n",
    "\"\"\"\n",
    "\n",
    "# Load YAML data into a Python dictionary\n",
    "data = yaml.safe_load(yaml_data)\n",
    "\n",
    "# Print the loaded data\n",
    "print(\"Loaded Data:\")\n",
    "print(data)\n",
    "\n",
    "# Modify the data\n",
    "data['person']['age'] = 31  # Update age\n",
    "data['person']['hobbies'].append('traveling')  # Add a new hobby\n",
    "\n",
    "# Dump the modified data back to a YAML formatted string\n",
    "modified_yaml_data = yaml.dump(data, default_flow_style=False)\n",
    "\n",
    "# Print the modified YAML data\n",
    "print(\"\\nModified YAML Data:\")\n",
    "print(modified_yaml_data)"
   ]
  },
  {
   "cell_type": "code",
   "execution_count": null,
   "id": "8c6e1b44",
   "metadata": {},
   "outputs": [],
   "source": []
  }
 ],
 "metadata": {
  "kernelspec": {
   "display_name": "Python 3 (ipykernel)",
   "language": "python",
   "name": "python3"
  },
  "language_info": {
   "codemirror_mode": {
    "name": "ipython",
    "version": 3
   },
   "file_extension": ".py",
   "mimetype": "text/x-python",
   "name": "python",
   "nbconvert_exporter": "python",
   "pygments_lexer": "ipython3",
   "version": "3.10.9"
  }
 },
 "nbformat": 4,
 "nbformat_minor": 5
}
