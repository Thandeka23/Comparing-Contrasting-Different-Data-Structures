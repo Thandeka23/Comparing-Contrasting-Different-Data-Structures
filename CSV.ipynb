{
 "cells": [
  {
   "cell_type": "code",
   "execution_count": 2,
   "id": "f8b03e34-ea04-4671-98ae-2c5ad54636ea",
   "metadata": {},
   "outputs": [
    {
     "name": "stdout",
     "output_type": "stream",
     "text": [
      "['Name', 'Age', 'City']\n",
      "['Kholofelo', '30', 'Midrand']\n",
      "['Thandeka', '25', 'Leondale']\n"
     ]
    }
   ],
   "source": [
    "import csv\n",
    "\n",
    "# Writing a CSV file\n",
    "data = [[\"Name\", \"Age\", \"City\"], [\"Kholofelo\", 30, \"Midrand\"], [\"Thandeka\", 25, \"Leondale\"]]\n",
    "with open(\"example.csv\", mode=\"w\", newline=\"\") as file:\n",
    "    writer = csv.writer(file)\n",
    "    writer.writerows(data)\n",
    "\n",
    "# Reading a CSV file\n",
    "with open(\"example.csv\", mode=\"r\") as file:\n",
    "    reader = csv.reader(file)\n",
    "    for row in reader:\n",
    "        print(row)\n"
   ]
  },
  {
   "cell_type": "code",
   "execution_count": null,
   "id": "667cfd91-219f-49dd-b476-78ab74b2a87f",
   "metadata": {},
   "outputs": [],
   "source": []
  }
 ],
 "metadata": {
  "kernelspec": {
   "display_name": "Python 3 (ipykernel)",
   "language": "python",
   "name": "python3"
  },
  "language_info": {
   "codemirror_mode": {
    "name": "ipython",
    "version": 3
   },
   "file_extension": ".py",
   "mimetype": "text/x-python",
   "name": "python",
   "nbconvert_exporter": "python",
   "pygments_lexer": "ipython3",
   "version": "3.11.7"
  }
 },
 "nbformat": 4,
 "nbformat_minor": 5
}
